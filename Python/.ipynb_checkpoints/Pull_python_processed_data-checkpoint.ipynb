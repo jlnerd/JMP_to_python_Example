{
 "cells": [
  {
   "cell_type": "code",
   "execution_count": 1,
   "metadata": {},
   "outputs": [
    {
     "name": "stdout",
     "output_type": "stream",
     "text": [
      "Pulling python processed data...\n"
     ]
    }
   ],
   "source": [
    "print(\"Pulling python processed data...\")\n",
    "\n",
    "import numpy as np\n",
    "import pandas as pd\n",
    "import sys, os, warnings, time, multiprocessing\n",
    "from decimal import Decimal\n",
    "from subprocess import Popen, PIPE\n",
    "\n",
    "path_root_folder = '..'#sys.argv[1]\n",
    "path_python_script = path_root_folder+'/Python/'\n",
    "path_temp_folder = path_root_folder+'/Temp/'\n",
    "path_LUT_folder = path_root_folder+'/LUTs/'\n",
    "\n",
    "path_save_folder = \".\"#sys.argv[3]\n",
    "if path_save_folder[0]==\"/\":\n",
    "    path_save_folder = path_save_folder[1:10000]\n",
    "    \n",
    "# append to python script path to cwd if not already present\n",
    "if path_python_script not in sys.path:\n",
    "    sys.path.append(path_python_script)\n",
    "\n",
    "#import custom python libraries\n",
    "import progress_bar_module as pgm"
   ]
  },
  {
   "cell_type": "code",
   "execution_count": 23,
   "metadata": {
    "scrolled": false
   },
   "outputs": [
    {
     "name": "stdout",
     "output_type": "stream",
     "text": [
      "Running linear regression...\n",
      "...linear regression finished\n"
     ]
    }
   ],
   "source": [
    "#Load a data set\n",
    "x = np.linspace(0,1).reshape(-1, 1)\n",
    "y = x + np.random.normal(0,.1,len(x)).reshape(-1, 1) # dummy data of a line with random noisey data\n",
    "\n",
    "print(\"Running linear regression...\")\n",
    "#do some kind of operation, here we just do basic linear regression\n",
    "from sklearn.linear_model import LinearRegression\n",
    "reg = LinearRegression().fit(x, y)\n",
    "y_pred = reg.predict(x)\n",
    "print(\"...linear regression finished\")\n",
    "\n",
    "#compile all the data\n",
    "df = pd.DataFrame()\n",
    "df['x'] = x[:,0]\n",
    "df['y_true'] = y\n",
    "df['y_pred'] = y_pred"
   ]
  },
  {
   "cell_type": "code",
   "execution_count": 25,
   "metadata": {
    "scrolled": true
   },
   "outputs": [],
   "source": [
    "filename_base = 'df_python_processed_data.csv'\n",
    "df.to_csv(path_temp_folder+filename_base, index=False) # save in a temp folder so you can easily fetch from another program\n",
    "df.to_csv(path_save_folder+filename_base, index=False) # save in the users prefered folder"
   ]
  },
  {
   "cell_type": "code",
   "execution_count": 26,
   "metadata": {
    "scrolled": true
   },
   "outputs": [],
   "source": [
    "#if you need to run some other python program that you can't just load from the start:\n",
    "# p = Popen([python_executable,\n",
    "#        path_python_script+\"your_next_python_program.py\",\n",
    "#        path_root_folder,\n",
    "#        path_save_folder], stdin=PIPE, stdout=PIPE, stderr=PIPE)\n",
    "# output, error = p.communicate(b\"input data that is passed to subprocess' stdin\")\n",
    "# output = output.decode('ascii')\n",
    "# error = error.decode('ascii')\n",
    "# print(output)\n",
    "# print(error)"
   ]
  },
  {
   "cell_type": "code",
   "execution_count": null,
   "metadata": {},
   "outputs": [],
   "source": []
  }
 ],
 "metadata": {
  "kernelspec": {
   "display_name": "Python 3",
   "language": "python",
   "name": "python3"
  },
  "language_info": {
   "codemirror_mode": {
    "name": "ipython",
    "version": 3
   },
   "file_extension": ".py",
   "mimetype": "text/x-python",
   "name": "python",
   "nbconvert_exporter": "python",
   "pygments_lexer": "ipython3",
   "version": "3.6.5"
  }
 },
 "nbformat": 4,
 "nbformat_minor": 2
}
